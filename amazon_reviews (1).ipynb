{
  "nbformat": 4,
  "nbformat_minor": 0,
  "metadata": {
    "colab": {
      "name": "amazon_reviews.ipynb",
      "provenance": [],
      "collapsed_sections": []
    },
    "kernelspec": {
      "name": "python3",
      "display_name": "Python 3"
    }
  },
  "cells": [
    {
      "cell_type": "code",
      "metadata": {
        "id": "nRqE56YF_HpV"
      },
      "source": [
        "  from bs4 import   BeautifulSoup as  bs\n",
        "  import requests"
      ],
      "execution_count": null,
      "outputs": []
    },
    {
      "cell_type": "code",
      "metadata": {
        "id": "RNChrpTyxSU3",
        "colab": {
          "base_uri": "https://localhost:8080/",
          "height": 52
        },
        "outputId": "e1ec89c6-26bf-4411-f272-a61a4847d86d"
      },
      "source": [
        "name = soup.find('span', class_=\"a-list-item\")\n",
        "print(name.text)"
      ],
      "execution_count": null,
      "outputs": [
        {
          "output_type": "stream",
          "text": [
            "\n",
            "Redmi Note 5 Pro (Gold, 4GB RAM, 64GB Storage)\n"
          ],
          "name": "stdout"
        }
      ]
    },
    {
      "cell_type": "code",
      "metadata": {
        "id": "tHgbtsMFADtK"
      },
      "source": [
        "link = 'https://www.amazon.in//Redmi-Note-Pro-64GB-Gold/product-reviews/B07CNLVQH6?dchild=1 '\n",
        "page  =  requests.get(link)\n",
        "soup = bs( page.content,'html.parser')\n",
        "print(soup.prettify( ))\n"
      ],
      "execution_count": null,
      "outputs": []
    },
    {
      "cell_type": "code",
      "metadata": {
        "id": "GhshMmn0AG37"
      },
      "source": [
        "import pandas as pd"
      ],
      "execution_count": null,
      "outputs": []
    },
    {
      "cell_type": "code",
      "metadata": {
        "id": "kKLO0M3gAT12"
      },
      "source": [
        "reviews = []\n",
        "names = []\n",
        "\n",
        "for link in all_links:\n",
        "    page  =  requests.get(link)\n",
        "    soup = bs( page.content,'html.parser')\n",
        "    name = soup.find('span', class_=\"a-list-item\")\n",
        "    review = soup.find_all(\"span\",  {\"data-hook\":\"review-body\"})\n",
        "\n",
        "    for i  in   range(0,len(review)):\n",
        "      reviews.append(review[i].get_text())\n",
        "      names.append(name.text)\n",
        "\n"
      ],
      "execution_count": null,
      "outputs": []
    },
    {
      "cell_type": "code",
      "metadata": {
        "id": "bXxUM96mAlAS"
      },
      "source": [
        "\n",
        "reviews[:]= [review.lstrip('\\n\\n') for review in reviews]\n",
        "reviews[:]= [review.rstrip('\\n\\n') for review in reviews]"
      ],
      "execution_count": null,
      "outputs": []
    },
    {
      "cell_type": "code",
      "metadata": {
        "id": "CyHQmd7-AtNW"
      },
      "source": [
        "dict = {\"name\": names, \"review\" : reviews}"
      ],
      "execution_count": null,
      "outputs": []
    },
    {
      "cell_type": "code",
      "metadata": {
        "id": "x4txPtMXBEyG"
      },
      "source": [
        "\n",
        "df = pd.DataFrame(dict)\n",
        "df.to_csv('mobilereviews.csv')"
      ],
      "execution_count": null,
      "outputs": []
    },
    {
      "cell_type": "code",
      "metadata": {
        "id": "IeWWVZD8vQEA"
      },
      "source": [
        "mobilelinks =[]\n",
        "for x in range(6,50):\n",
        "  r = requests.get(f'https://www.amazon.in/s?rh=n%3A976419031%2Cn%3A%21976420031%2Cn%3A1389401031%2Cn%3A1389432031&page={x}')\n",
        "  s = bs(r.content,'lxml')\n",
        "  mobilelists = s.find_all('div' ,class_=\"a-row a-size-base a-color-base\")\n",
        "  for item in mobilelists:\n",
        "    for link in item.find_all(\"a\",class_='a-size-base a-link-normal s-no-hover a-text-normal', href=True):\n",
        "      mobilelinks.append(link['href'])\n",
        "\n",
        "\n"
      ],
      "execution_count": null,
      "outputs": []
    },
    {
      "cell_type": "code",
      "metadata": {
        "id": "ZEMtgcd42kKn",
        "colab": {
          "base_uri": "https://localhost:8080/",
          "height": 35
        },
        "outputId": "2e806a21-9264-4563-9ae3-7e6ac7e0a38e"
      },
      "source": [
        "print(len(mobilelinks))"
      ],
      "execution_count": null,
      "outputs": [
        {
          "output_type": "stream",
          "text": [
            "73\n"
          ],
          "name": "stdout"
        }
      ]
    },
    {
      "cell_type": "code",
      "metadata": {
        "id": "kU3Snlojqpm1"
      },
      "source": [
        "final_links=[]\n",
        "for mobile in mobilelinks:\n",
        "  new_link=mobile.split(\"/\")\n",
        "  new_link[2] = 'product-reviews'\n",
        "  final_link = '/'.join(new_link)\n",
        "  final_links.append(final_link)\n"
      ],
      "execution_count": null,
      "outputs": []
    },
    {
      "cell_type": "code",
      "metadata": {
        "id": "z3bMonxnp185",
        "colab": {
          "base_uri": "https://localhost:8080/",
          "height": 55
        },
        "outputId": "3d8699d0-51d3-4463-f4b0-ae13de99f640"
      },
      "source": [
        "print(final_links)"
      ],
      "execution_count": null,
      "outputs": [
        {
          "output_type": "stream",
          "text": [
            "['/KALL-K1000-Aura-Blue-64GB/product-reviews/B08KLTYVB1?dchild=1', '/Renewed-Samsung-Galaxy-Ocean-Storage/product-reviews/B08DY3LSYM?dchild=1', '/Lava-Pulse-Mobile-Phone-Monitor/product-reviews/B08D13VKH6?dchild=1', '/Lava-A1-Green/product-reviews/B087K4MCJW?dchild=1', '/OPPO-Storage-Additional-Exchange-Offers/product-reviews/B07PSHLRJ8?dchild=1', '/I-KALL-K5-Blue-16GB/product-reviews/B08KLWHLG6?dchild=1', '/Redmi-6A-Blue-16GB-Storage/product-reviews/B07DJD1H1D?dchild=1', '/Coolpad-Cool-Silver-Storage-Pop-up/product-reviews/B08HRC9FNT?dchild=1', '/Mi-A2-Gold-64GB-Storage/product-reviews/B07DJHWT5V?dchild=1', '/Tecno-Spark-Seabed-Blue-Storage/product-reviews/B087K78FD5?dchild=1', '/Vivo-Fusion-Black-Storage-Without/product-reviews/B07KXC7WTR?dchild=1', '/Redmi-Pro-Black-64GB-Storage/product-reviews/B07DJHXWZZ?dchild=1', '/Lava-A1-Josh-White/product-reviews/B07RV3KH3Q?dchild=1', '/Samsung-Galaxy-Storage-Additional-Exchange/product-reviews/B086KCCKKW?dchild=1', '/Redmi-Dual-Blue-Storage-Earphone/product-reviews/B08L2NBCR9?dchild=1', '/Samsung-Galaxy-Storage-Additional-Exchange/product-reviews/B086KGPM5G?dchild=1', '/IKALL-K3312-Display-Multimedia-Recording/product-reviews/B082948CTJ?dchild=1', '/Vivo-Storage-Additional-Exchange-Offers/product-reviews/B089MTTMC7?dchild=1', '/Honor-Midnight-Storage-Camera-Triple/product-reviews/B0856CF481?dchild=1', '/Samsung-Galaxy-Storage-Additional-Exchange/product-reviews/B086KCQX95?dchild=1', '/Redmi-Dual-Midnight-Storage-Earphone/product-reviews/B08L2MNVMW?dchild=1', '/Redmi-Pro-Red-64GB-Storage/product-reviews/B07DJHZCZF?dchild=1', '/Renewed-OnePlus-Glacial-Green-Storage/product-reviews/B08DJ5N4HS?dchild=1', '/K43-Mobile-Display-Multimedia-Without/product-reviews/B08341F7QF?dchild=1', '/Nokia-125-NOKIA-DS/product-reviews/B08JCX8X2M?dchild=1', '/QFX-K11-Black-Dual-SIM/product-reviews/B07MN463ZC?dchild=1', '/Renewed-Redmi-8A-Dual-Storage/product-reviews/B08C7RM9PN?dchild=1', '/Swiss-Voice-Mobile-Handset-Orange/product-reviews/B005GNYZH0?dchild=1', '/Renewed-Redmi-Note-Neptune-128GB/product-reviews/B07VSG215W?dchild=1', '/Vivo-Aqua-Storage-Additional-Exchange/product-reviews/B07S6BGL1K?dchild=1', '/Lava-A1-Super-White-Grey/product-reviews/B082H939VH?dchild=1', '/Redmi-K20-Glacier-Storage-Exchange/product-reviews/B082FNDQT7?dchild=1', '/KALL-K2-Ocean-Blue-64GB/product-reviews/B08KLSTJJ9?dchild=1', '/Redmi-Dual-Midnight-Storage-Earphone/product-reviews/B08L2MP5H2?dchild=1', '/Note-Pro-Neptune-Blue-64GB/product-reviews/B07W229P36?dchild=1', '/Poco-Arctic-Blue-RAM-Storage/product-reviews/B08KTLGTNX?dchild=1', '/Renewed-Redmi-Note-Neptune-Storage/product-reviews/B084KX7CDP?dchild=1', '/Nillkin-Frosted-Shield-Samsung-Galaxy/product-reviews/B0847QHJ1G?dchild=1', '/Nillkin-Samsung-CamShield-Layered-Protection/product-reviews/B08DTF7JPH?dchild=1', '/KECHAODA-K33-Kechaoda-Black-Pink-32GB/product-reviews/B07BZNZ796?dchild=1', '/Renewed-Storage-Additional-Exchange-Offers/product-reviews/B07YNZCG3W?dchild=1', '/Lava-Z60s-Black/product-reviews/B07H1P1H46?dchild=1', '/KECHAODA-K33-Kechaoda-Black-Silver-32GB/product-reviews/B07BZKNHHZ?dchild=1', '/Samsung-Galaxy-Violet-Storage-Without/product-reviews/B07S7DYDQS?dchild=1', '/Huawei-P40-Dual-PlayStore-256GB/product-reviews/B086J4R9BX?dchild=1', '/Car-Design-Keypad-Mobile-Multimedia/product-reviews/B085W336WR?dchild=1', '/Redmi-Note-Onyx-Black-Storage/product-reviews/B07PKTGR91?dchild=1', '/Midnight-Storage-Additional-Exchange-Offers/product-reviews/B084457WQB?dchild=1', '/Xifo-Spinup-Model-Volte-Colour/product-reviews/B08KXQCGPT?dchild=1', '/Good-Magic-Shape-Dual-Mobile/product-reviews/B07YDRQ4VF?dchild=1', '/IKALL-K37-Display-Camera-Multimedia/product-reviews/B082V5KTLB?dchild=1', '/Jivi-Banana-Display-Battery-Wireless/product-reviews/B07L89LYKQ?dchild=1', '/itel-2171-Itel-it2171-Deep/product-reviews/B0859S6S3J?dchild=1', '/Luminous-Storage-Additional-Exchange-Offers/product-reviews/B07SDP1XFY?dchild=1', '/Feature-2800mAh-Battery-Display-IAIRFPD8/product-reviews/B08CCGXYDQ?dchild=1', '/Redmi-Note-Pro-64GB-Storage/product-reviews/B07M8S3B8G?dchild=1', '/Renewed-OnePlus-Mirror-128GB-Storage/product-reviews/B07YFFYYNS?dchild=1', '/Poco-Arctic-Blue-RAM-Storage/product-reviews/B08KTLMLTG?dchild=1', '/Nillkin-OnePlus-CamShield-Layered-Protection/product-reviews/B08BXMVWW1?dchild=1', '/SNEXIAN-332-Mobile-Digital-Camera/product-reviews/B08CCVXXVC?dchild=1', '/Monitor-Fitness-Pedometer-Calorie-Control/product-reviews/B08LGF9Q84?dchild=1', '/K43-Mobile-Multimedia-Without-Camera/product-reviews/B0833ZDBJ9?dchild=1', '/I-KALL-K201-Green-16GB/product-reviews/B08KLW4Y7N?dchild=1', '/Redmi-Note-Pro-Blue-Storage/product-reviews/B07NL6ZMXH?dchild=1', '/KALL-K16-Dual-Sim-White/product-reviews/B08KT69JFR?dchild=1', '/Redmi-Note-Pro-Black-Storage/product-reviews/B07M5XR1PJ?dchild=1', '/itel-A23-2019-Gradation-Storage/product-reviews/B0813MQ5QG?dchild=1', '/I-KALL-K3-Red-16GB/product-reviews/B08KLS71P4?dchild=1', '/TECNO-Spark-Jadeite-64GB-Storage/product-reviews/B087K85HXG?dchild=1', '/Nillkin-Frosted-Shield-Samsung-Galaxy/product-reviews/B0847Q4BBQ?dchild=1', '/Nillkin-Frosted-Shield-Plastic-Samsung/product-reviews/B085NM1M75?dchild=1', '/Blackbear-Trio-Feature-Phone-Dual/product-reviews/B08LCB8XB8?dchild=1', '/Renewed-Redmi-Note-Storage-Processor/product-reviews/B084TQSXC4?dchild=1']\n"
          ],
          "name": "stdout"
        }
      ]
    },
    {
      "cell_type": "code",
      "metadata": {
        "id": "AoPVp7_ip497"
      },
      "source": [
        "reviewlinks=[]\n",
        "for mobile in final_links:\n",
        "  reviewlinks.append(\"https://www.amazon.in/\" + mobile)\n"
      ],
      "execution_count": null,
      "outputs": []
    },
    {
      "cell_type": "code",
      "metadata": {
        "id": "tr6dtz4mb1Iy",
        "colab": {
          "base_uri": "https://localhost:8080/",
          "height": 1000
        },
        "outputId": "07c3b7ed-02b7-486c-b58e-f5158ddbd307"
      },
      "source": [
        "reviewlinks"
      ],
      "execution_count": null,
      "outputs": [
        {
          "output_type": "execute_result",
          "data": {
            "text/plain": [
              "['https://www.amazon.in//KALL-K1000-Aura-Blue-64GB/product-reviews/B08KLTYVB1?dchild=1',\n",
              " 'https://www.amazon.in//Renewed-Samsung-Galaxy-Ocean-Storage/product-reviews/B08DY3LSYM?dchild=1',\n",
              " 'https://www.amazon.in//Lava-Pulse-Mobile-Phone-Monitor/product-reviews/B08D13VKH6?dchild=1',\n",
              " 'https://www.amazon.in//Lava-A1-Green/product-reviews/B087K4MCJW?dchild=1',\n",
              " 'https://www.amazon.in//OPPO-Storage-Additional-Exchange-Offers/product-reviews/B07PSHLRJ8?dchild=1',\n",
              " 'https://www.amazon.in//I-KALL-K5-Blue-16GB/product-reviews/B08KLWHLG6?dchild=1',\n",
              " 'https://www.amazon.in//Redmi-6A-Blue-16GB-Storage/product-reviews/B07DJD1H1D?dchild=1',\n",
              " 'https://www.amazon.in//Coolpad-Cool-Silver-Storage-Pop-up/product-reviews/B08HRC9FNT?dchild=1',\n",
              " 'https://www.amazon.in//Mi-A2-Gold-64GB-Storage/product-reviews/B07DJHWT5V?dchild=1',\n",
              " 'https://www.amazon.in//Tecno-Spark-Seabed-Blue-Storage/product-reviews/B087K78FD5?dchild=1',\n",
              " 'https://www.amazon.in//Vivo-Fusion-Black-Storage-Without/product-reviews/B07KXC7WTR?dchild=1',\n",
              " 'https://www.amazon.in//Redmi-Pro-Black-64GB-Storage/product-reviews/B07DJHXWZZ?dchild=1',\n",
              " 'https://www.amazon.in//Lava-A1-Josh-White/product-reviews/B07RV3KH3Q?dchild=1',\n",
              " 'https://www.amazon.in//Samsung-Galaxy-Storage-Additional-Exchange/product-reviews/B086KCCKKW?dchild=1',\n",
              " 'https://www.amazon.in//Redmi-Dual-Blue-Storage-Earphone/product-reviews/B08L2NBCR9?dchild=1',\n",
              " 'https://www.amazon.in//Samsung-Galaxy-Storage-Additional-Exchange/product-reviews/B086KGPM5G?dchild=1',\n",
              " 'https://www.amazon.in//IKALL-K3312-Display-Multimedia-Recording/product-reviews/B082948CTJ?dchild=1',\n",
              " 'https://www.amazon.in//Vivo-Storage-Additional-Exchange-Offers/product-reviews/B089MTTMC7?dchild=1',\n",
              " 'https://www.amazon.in//Honor-Midnight-Storage-Camera-Triple/product-reviews/B0856CF481?dchild=1',\n",
              " 'https://www.amazon.in//Samsung-Galaxy-Storage-Additional-Exchange/product-reviews/B086KCQX95?dchild=1',\n",
              " 'https://www.amazon.in//Redmi-Dual-Midnight-Storage-Earphone/product-reviews/B08L2MNVMW?dchild=1',\n",
              " 'https://www.amazon.in//Redmi-Pro-Red-64GB-Storage/product-reviews/B07DJHZCZF?dchild=1',\n",
              " 'https://www.amazon.in//Renewed-OnePlus-Glacial-Green-Storage/product-reviews/B08DJ5N4HS?dchild=1',\n",
              " 'https://www.amazon.in//K43-Mobile-Display-Multimedia-Without/product-reviews/B08341F7QF?dchild=1',\n",
              " 'https://www.amazon.in//Nokia-125-NOKIA-DS/product-reviews/B08JCX8X2M?dchild=1',\n",
              " 'https://www.amazon.in//QFX-K11-Black-Dual-SIM/product-reviews/B07MN463ZC?dchild=1',\n",
              " 'https://www.amazon.in//Renewed-Redmi-8A-Dual-Storage/product-reviews/B08C7RM9PN?dchild=1',\n",
              " 'https://www.amazon.in//Swiss-Voice-Mobile-Handset-Orange/product-reviews/B005GNYZH0?dchild=1',\n",
              " 'https://www.amazon.in//Renewed-Redmi-Note-Neptune-128GB/product-reviews/B07VSG215W?dchild=1',\n",
              " 'https://www.amazon.in//Vivo-Aqua-Storage-Additional-Exchange/product-reviews/B07S6BGL1K?dchild=1',\n",
              " 'https://www.amazon.in//Lava-A1-Super-White-Grey/product-reviews/B082H939VH?dchild=1',\n",
              " 'https://www.amazon.in//Redmi-K20-Glacier-Storage-Exchange/product-reviews/B082FNDQT7?dchild=1',\n",
              " 'https://www.amazon.in//KALL-K2-Ocean-Blue-64GB/product-reviews/B08KLSTJJ9?dchild=1',\n",
              " 'https://www.amazon.in//Redmi-Dual-Midnight-Storage-Earphone/product-reviews/B08L2MP5H2?dchild=1',\n",
              " 'https://www.amazon.in//Note-Pro-Neptune-Blue-64GB/product-reviews/B07W229P36?dchild=1',\n",
              " 'https://www.amazon.in//Poco-Arctic-Blue-RAM-Storage/product-reviews/B08KTLGTNX?dchild=1',\n",
              " 'https://www.amazon.in//Renewed-Redmi-Note-Neptune-Storage/product-reviews/B084KX7CDP?dchild=1',\n",
              " 'https://www.amazon.in//Nillkin-Frosted-Shield-Samsung-Galaxy/product-reviews/B0847QHJ1G?dchild=1',\n",
              " 'https://www.amazon.in//Nillkin-Samsung-CamShield-Layered-Protection/product-reviews/B08DTF7JPH?dchild=1',\n",
              " 'https://www.amazon.in//KECHAODA-K33-Kechaoda-Black-Pink-32GB/product-reviews/B07BZNZ796?dchild=1',\n",
              " 'https://www.amazon.in//Renewed-Storage-Additional-Exchange-Offers/product-reviews/B07YNZCG3W?dchild=1',\n",
              " 'https://www.amazon.in//Lava-Z60s-Black/product-reviews/B07H1P1H46?dchild=1',\n",
              " 'https://www.amazon.in//KECHAODA-K33-Kechaoda-Black-Silver-32GB/product-reviews/B07BZKNHHZ?dchild=1',\n",
              " 'https://www.amazon.in//Samsung-Galaxy-Violet-Storage-Without/product-reviews/B07S7DYDQS?dchild=1',\n",
              " 'https://www.amazon.in//Huawei-P40-Dual-PlayStore-256GB/product-reviews/B086J4R9BX?dchild=1',\n",
              " 'https://www.amazon.in//Car-Design-Keypad-Mobile-Multimedia/product-reviews/B085W336WR?dchild=1',\n",
              " 'https://www.amazon.in//Redmi-Note-Onyx-Black-Storage/product-reviews/B07PKTGR91?dchild=1',\n",
              " 'https://www.amazon.in//Midnight-Storage-Additional-Exchange-Offers/product-reviews/B084457WQB?dchild=1',\n",
              " 'https://www.amazon.in//Xifo-Spinup-Model-Volte-Colour/product-reviews/B08KXQCGPT?dchild=1',\n",
              " 'https://www.amazon.in//Good-Magic-Shape-Dual-Mobile/product-reviews/B07YDRQ4VF?dchild=1',\n",
              " 'https://www.amazon.in//IKALL-K37-Display-Camera-Multimedia/product-reviews/B082V5KTLB?dchild=1',\n",
              " 'https://www.amazon.in//Jivi-Banana-Display-Battery-Wireless/product-reviews/B07L89LYKQ?dchild=1',\n",
              " 'https://www.amazon.in//itel-2171-Itel-it2171-Deep/product-reviews/B0859S6S3J?dchild=1',\n",
              " 'https://www.amazon.in//Luminous-Storage-Additional-Exchange-Offers/product-reviews/B07SDP1XFY?dchild=1',\n",
              " 'https://www.amazon.in//Feature-2800mAh-Battery-Display-IAIRFPD8/product-reviews/B08CCGXYDQ?dchild=1',\n",
              " 'https://www.amazon.in//Redmi-Note-Pro-64GB-Storage/product-reviews/B07M8S3B8G?dchild=1',\n",
              " 'https://www.amazon.in//Renewed-OnePlus-Mirror-128GB-Storage/product-reviews/B07YFFYYNS?dchild=1',\n",
              " 'https://www.amazon.in//Poco-Arctic-Blue-RAM-Storage/product-reviews/B08KTLMLTG?dchild=1',\n",
              " 'https://www.amazon.in//Nillkin-OnePlus-CamShield-Layered-Protection/product-reviews/B08BXMVWW1?dchild=1',\n",
              " 'https://www.amazon.in//SNEXIAN-332-Mobile-Digital-Camera/product-reviews/B08CCVXXVC?dchild=1',\n",
              " 'https://www.amazon.in//Monitor-Fitness-Pedometer-Calorie-Control/product-reviews/B08LGF9Q84?dchild=1',\n",
              " 'https://www.amazon.in//K43-Mobile-Multimedia-Without-Camera/product-reviews/B0833ZDBJ9?dchild=1',\n",
              " 'https://www.amazon.in//I-KALL-K201-Green-16GB/product-reviews/B08KLW4Y7N?dchild=1',\n",
              " 'https://www.amazon.in//Redmi-Note-Pro-Blue-Storage/product-reviews/B07NL6ZMXH?dchild=1',\n",
              " 'https://www.amazon.in//KALL-K16-Dual-Sim-White/product-reviews/B08KT69JFR?dchild=1',\n",
              " 'https://www.amazon.in//Redmi-Note-Pro-Black-Storage/product-reviews/B07M5XR1PJ?dchild=1',\n",
              " 'https://www.amazon.in//itel-A23-2019-Gradation-Storage/product-reviews/B0813MQ5QG?dchild=1',\n",
              " 'https://www.amazon.in//I-KALL-K3-Red-16GB/product-reviews/B08KLS71P4?dchild=1',\n",
              " 'https://www.amazon.in//TECNO-Spark-Jadeite-64GB-Storage/product-reviews/B087K85HXG?dchild=1',\n",
              " 'https://www.amazon.in//Nillkin-Frosted-Shield-Samsung-Galaxy/product-reviews/B0847Q4BBQ?dchild=1',\n",
              " 'https://www.amazon.in//Nillkin-Frosted-Shield-Plastic-Samsung/product-reviews/B085NM1M75?dchild=1',\n",
              " 'https://www.amazon.in//Blackbear-Trio-Feature-Phone-Dual/product-reviews/B08LCB8XB8?dchild=1',\n",
              " 'https://www.amazon.in//Renewed-Redmi-Note-Storage-Processor/product-reviews/B084TQSXC4?dchild=1']"
            ]
          },
          "metadata": {
            "tags": []
          },
          "execution_count": 110
        }
      ]
    },
    {
      "cell_type": "code",
      "metadata": {
        "id": "2nfbwRwkcy37"
      },
      "source": [
        "all_links = []\n",
        "for link in reviewlinks:\n",
        "  index = link.rfind(\"1\")\n",
        "  for x in range(1,10):\n",
        "    newlink = link[:index] + str(x)\n",
        "    all_links.append(newlink)\n",
        "    \n",
        "\n"
      ],
      "execution_count": null,
      "outputs": []
    },
    {
      "cell_type": "code",
      "metadata": {
        "id": "F5x3KAerjsou",
        "colab": {
          "base_uri": "https://localhost:8080/",
          "height": 35
        },
        "outputId": "88c58ff7-6466-4758-d658-29f1d679f3b6"
      },
      "source": [
        "print(len(all_links))"
      ],
      "execution_count": null,
      "outputs": [
        {
          "output_type": "stream",
          "text": [
            "657\n"
          ],
          "name": "stdout"
        }
      ]
    },
    {
      "cell_type": "code",
      "metadata": {
        "id": "vjstMHG5n9lN"
      },
      "source": [
        ""
      ],
      "execution_count": null,
      "outputs": []
    }
  ]
}